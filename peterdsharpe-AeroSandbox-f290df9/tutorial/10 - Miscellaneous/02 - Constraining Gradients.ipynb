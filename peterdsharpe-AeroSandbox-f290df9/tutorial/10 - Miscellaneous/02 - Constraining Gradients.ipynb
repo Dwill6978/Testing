{
 "cells": [
  {
   "cell_type": "markdown",
   "source": [
    "# Constraining Gradients\n",
    "\n",
    "In this demonstration, we show how you can expose a bit more of the automatic differentiation engine provided by CasADi. Credit to Antonios Gementzopoulos (@antoniosgeme) for working out bugs with the notation here.\n",
    "\n",
    "One use case for this might be constraining a gradient of a function; for example:\n",
    "\n",
    "* For an aircraft design problem, you might wish to add a static stability constraint of the form $d(Cm)/d(\\alpha) < -1$ or similar. You could directly compute $d(Cm)/d(\\alpha)$ (more commonly abbreviated $C_{m \\alpha}$) and add a constraint on that.\n",
    "\n",
    "For a simple example of this, we show how you can solve the following optimization problem:\n",
    "\n",
    "* Where $f(x) = x^4$:\n",
    "* Minimize $0$ (in other words, there is no objective - simply find any feasible solution)\n",
    "* Subject to:\n",
    "    * $df/dx = 1$\n",
    "\n",
    "We can analytically compute the solution:\n",
    "\n",
    "$df/dx = 4x^3 = 1 \\implies x = (1/4)^{1/3} \\approx 0.629961$\n",
    "\n",
    "We set up the problem using familiar syntax:"
   ],
   "metadata": {
    "collapsed": false
   }
  },
  {
   "cell_type": "code",
   "metadata": {
    "collapsed": true,
    "ExecuteTime": {
     "end_time": "2024-04-06T01:40:16.663392Z",
     "start_time": "2024-04-06T01:40:15.230208Z"
    }
   },
   "source": [
    "import aerosandbox as asb\n",
    "import aerosandbox.numpy as np\n",
    "\n",
    "opti = asb.Opti()\n",
    "\n",
    "x = opti.variable(init_guess=10)\n",
    "\n",
    "def f(x):\n",
    "    return x ** 4"
   ],
   "outputs": [],
   "execution_count": 1
  },
  {
   "cell_type": "markdown",
   "source": [
    "So far, this is all pretty normal. Now, we compute the gradient using a bit of CasADi magic:"
   ],
   "metadata": {
    "collapsed": false
   }
  },
  {
   "cell_type": "code",
   "source": [
    "import casadi as cas # Import CasADi\n",
    "\n",
    "dummy = cas.GenMX_sym(\"s\") # Create a dummy variable aliased to \"s\" (name is not important, only useful for debugging)\n",
    "\n",
    "dfdx = cas.Function( # Create a Python function...\n",
    "    \"dfdx\", # Aliased to \"dfdx\" (name is not important, only useful for debugging).\n",
    "    [dummy], # Input to the function should be some dummy variable.\n",
    "    [\n",
    "        cas.gradient( # Output of the function should be the gradient of...\n",
    "            f(dummy), # The function applied to our dummy variable...\n",
    "            dummy # With respect to the dummy variable.\n",
    "        )\n",
    "    ]\n",
    ")"
   ],
   "metadata": {
    "collapsed": false,
    "pycharm": {
     "name": "#%%\n"
    },
    "ExecuteTime": {
     "end_time": "2024-04-06T01:40:16.668955Z",
     "start_time": "2024-04-06T01:40:16.664913Z"
    }
   },
   "outputs": [],
   "execution_count": 2
  },
  {
   "cell_type": "markdown",
   "source": [
    "And now we add our constraint and solve, turning verbosity off just to keep things a bit cleaner."
   ],
   "metadata": {
    "collapsed": false
   }
  },
  {
   "cell_type": "code",
   "source": [
    "opti.subject_to(\n",
    "    dfdx(x) == 1\n",
    ")\n",
    "\n",
    "sol = opti.solve(verbose=False)\n",
    "\n",
    "print(f\"x_optimal = {sol(x)}\")"
   ],
   "metadata": {
    "collapsed": false,
    "pycharm": {
     "name": "#%%\n"
    },
    "ExecuteTime": {
     "end_time": "2024-04-06T01:40:16.691185Z",
     "start_time": "2024-04-06T01:40:16.669862Z"
    }
   },
   "outputs": [
    {
     "name": "stdout",
     "output_type": "stream",
     "text": [
      "x_optimal = 0.6299605894866889\n"
     ]
    }
   ],
   "execution_count": 3
  },
  {
   "cell_type": "markdown",
   "source": [
    "Which we can then compare to our analytical solution:"
   ],
   "metadata": {
    "collapsed": false
   }
  },
  {
   "cell_type": "code",
   "source": [
    "print(\n",
    "    (1 / 4) ** (1 / 3)\n",
    ")"
   ],
   "metadata": {
    "collapsed": false,
    "pycharm": {
     "name": "#%%\n"
    },
    "ExecuteTime": {
     "end_time": "2024-04-06T01:40:16.695700Z",
     "start_time": "2024-04-06T01:40:16.692191Z"
    }
   },
   "outputs": [
    {
     "name": "stdout",
     "output_type": "stream",
     "text": [
      "0.6299605249474366\n"
     ]
    }
   ],
   "execution_count": 4
  },
  {
   "cell_type": "markdown",
   "source": [
    "So, it worked!"
   ],
   "metadata": {
    "collapsed": false
   }
  }
 ],
 "metadata": {
  "kernelspec": {
   "display_name": "Python 3",
   "language": "python",
   "name": "python3"
  },
  "language_info": {
   "codemirror_mode": {
    "name": "ipython",
    "version": 2
   },
   "file_extension": ".py",
   "mimetype": "text/x-python",
   "name": "python",
   "nbconvert_exporter": "python",
   "pygments_lexer": "ipython2",
   "version": "2.7.6"
  }
 },
 "nbformat": 4,
 "nbformat_minor": 0
}
