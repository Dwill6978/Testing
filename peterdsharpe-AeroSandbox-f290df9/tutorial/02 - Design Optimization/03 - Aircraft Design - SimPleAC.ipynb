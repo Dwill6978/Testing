{
 "cells": [
  {
   "cell_type": "markdown",
   "metadata": {
    "collapsed": true,
    "pycharm": {
     "name": "#%% md\n"
    }
   },
   "source": [
    "# Aircraft Design - SimPleAC and Comparison to Geometric Programming\n",
    "\n",
    "Here, we implement an aircraft design problem called \"SimPleAC\" proposed by Prof. Warren Hoburg and refined in Berk Ozturk's Master's thesis.\n",
    "\n",
    "This design problem was initially formulated as a demonstration of the geometric programming (GP) approach that GPKit uses. Here, we instead solve with the automatic differentiation (AD) optimization approach that AeroSandbox uses, and then we make comparisons between the two.\n",
    "\n",
    "The problem itself is documented in the following locations:\n",
    "\n",
    "* Primary reference is the associated model in [GPLibrary](https://github.com/convexengineering/gplibrary/tree/master/gpkitmodels/SP/SimPleAC)\n",
    "* Berk's thesis is [available here](https://dspace.mit.edu/handle/1721.1/115595?show=full).\n",
    "\n",
    "We begin our modeling by initializing an optimization environment:"
   ]
  },
  {
   "cell_type": "code",
   "source": [
    "import aerosandbox as asb\n",
    "import aerosandbox.numpy as np\n",
    "\n",
    "opti = asb.Opti()"
   ],
   "metadata": {
    "collapsed": false,
    "pycharm": {
     "name": "#%%\n"
    },
    "is_executing": true,
    "ExecuteTime": {
     "end_time": "2024-04-05T23:42:34.773051Z",
     "start_time": "2024-04-05T23:42:33.078670Z"
    }
   },
   "outputs": [],
   "execution_count": 1
  },
  {
   "cell_type": "markdown",
   "source": [
    "We continue by defining all of the constants in SimPleAC. For convenience, we define these here all as simple scalars rather than parameters.\n",
    "\n",
    "If we were interested in studying parametric sensitivities with respect to these constants, we could just as easily define these as parameters using `opti.parameter()` instead, and get the associated duals with `opti.dual(opti.parameter())`.\n",
    "\n",
    "Note: we have converted all units into base SI units where applicable. (km -> m, etc.)"
   ],
   "metadata": {
    "collapsed": false
   }
  },
  {
   "cell_type": "code",
   "source": [
    "##### Constants\n",
    "\n",
    "### Env. constants\n",
    "g = 9.81  # gravitational acceleration, m/s^2\n",
    "mu = 1.775e-5  # viscosity of air, kg/m/s\n",
    "rho = 1.23  # density of air, kg/m^3\n",
    "rho_f = 817  # density of fuel, kg/m^3\n",
    "\n",
    "### Non-dimensional constants\n",
    "C_Lmax = 1.6  # stall CL\n",
    "e = 0.92  # Oswald's efficiency factor\n",
    "k = 1.17  # form factor\n",
    "N_ult = 3.3  # ultimate load factor\n",
    "S_wetratio = 2.075  # wetted area ratio\n",
    "tau = 0.12  # airfoil thickness to chord ratio\n",
    "W_W_coeff1 = 2e-5  # wing weight coefficient 1\n",
    "W_W_coeff2 = 60  # wing weight coefficient 2\n",
    "\n",
    "### Dimensional constants\n",
    "Range = 1000e3  # aircraft range, m\n",
    "TSFC = 0.6 / 3600  # thrust specific fuel consumption, 1/sec\n",
    "V_min = 25  # takeoff speed, m/s\n",
    "W_0 = 6250  # aircraft weight excluding wing, N\n"
   ],
   "metadata": {
    "collapsed": false,
    "pycharm": {
     "name": "#%%\n"
    },
    "ExecuteTime": {
     "end_time": "2024-04-05T23:42:34.779890Z",
     "start_time": "2024-04-05T23:42:34.775058Z"
    }
   },
   "outputs": [],
   "execution_count": 2
  },
  {
   "cell_type": "markdown",
   "source": [
    "We then implement the free variables. Here, we do this basically the same way as SimPleAC.\n",
    "\n",
    "As a side note: upon inspection, it's *very clear* that a lot of the quantities listed as \"free variables\" in the SimPleAC source are extraneous and can be explicitly computed with minimal effort. Examples:\n",
    "* Reynolds number `Re` - there is no reason to declare this as a design variable when it can instead be explicitly computed as a function of cruise speed and wing geometry.\n",
    "* Lift to drag ratio `LoD` - this is defined as a variable and then constrained to be equal to `L / D`, and then subsequently never used anywhere else in the problem formulation.\n",
    "* `p_labor`, the labor cost, which is declared and then never used in the formulation.\n",
    "\n",
    "Because of this, we remove a lot of the variable declarations with trivial effort, and **we solve the same engineering problem with much simpler notation**.\n",
    "\n",
    "We give initial guesses based on our intuition for order of magnitude. (Note for later readers: these initial guesses were made based on engineering intuition *before* looking at the optimal solution.)\n",
    "\n",
    "We can even exploit log-convexity of the problem by flagging `log_transform=True` on variables that we intuitively expect to be nicely behaved in log-space. (However, unlike a pure geometric programming approach, we are not required to do this for every variable, and this in no way restricts us to GP-compatibility later on when we write constraints or objectives.)"
   ],
   "metadata": {
    "collapsed": false
   }
  },
  {
   "cell_type": "code",
   "source": [
    "### Free variables (same as SimPleAC, with extraneous variables removed)\n",
    "AR = opti.variable(init_guess=10, log_transform=True)  # aspect ratio\n",
    "S = opti.variable(init_guess=10, log_transform=True)  # total wing area, m^2\n",
    "V = opti.variable(init_guess=100, log_transform=True)  # cruise speed, m/s\n",
    "W = opti.variable(init_guess=10000, log_transform=True)  # total aircraft weight, N\n",
    "C_L = opti.variable(init_guess=1, log_transform=True)  # lift coefficient\n",
    "W_f = opti.variable(init_guess=3000, log_transform=True)  # fuel weight, N\n",
    "V_f_fuse = opti.variable(init_guess=1, log_transform=True)  # fuel volume in the fuselage, m^3"
   ],
   "metadata": {
    "collapsed": false,
    "pycharm": {
     "name": "#%%\n"
    },
    "ExecuteTime": {
     "end_time": "2024-04-05T23:42:35.240260Z",
     "start_time": "2024-04-05T23:42:34.780902Z"
    }
   },
   "outputs": [],
   "execution_count": 3
  },
  {
   "cell_type": "markdown",
   "source": [
    "Our rules of thumb when deciding whether to log-transform:\n",
    "* Is this variable pretty much exclusively used in power-law-type relations?\n",
    "* Do we think a singularity would occur if this variable went to exactly zero, or negative?\n",
    "\n",
    "So, we choose to log-transform:\n",
    "* `V`, because we expect bad things to happen with our $C_f$ model if `Re` goes to zero.\n",
    "* `C_L`, because if $C_L$ goes to zero, $L=W$ cannot occur regardless of airspeed (and if $C_L$ goes negative, the lift-to-airspeed proportionality goes negative)\n",
    "* `S`, because if $S$ goes to zero, the same thing as above occurs.\n",
    "* `AR`, because if $AR$ goes to zero, we have a span of zero which we expect to cause a singularity.\n",
    "\n",
    "For the purposes of illustration, we log-transform the rest of the variables here too.\n",
    "\n",
    "We implement the weight and lift models:"
   ],
   "metadata": {
    "collapsed": false
   }
  },
  {
   "cell_type": "code",
   "source": [
    "### Wing weight\n",
    "W_w_surf = W_W_coeff2 * S\n",
    "W_w_strc = W_W_coeff1 / tau * N_ult * AR ** 1.5 * np.sqrt(\n",
    "    (W_0 + V_f_fuse * g * rho_f) * W * S\n",
    ")\n",
    "W_w = W_w_surf + W_w_strc\n",
    "\n",
    "### Entire weight\n",
    "opti.subject_to(\n",
    "    W >= W_0 + W_w + W_f\n",
    ")\n",
    "\n",
    "### Lift equals weight constraint\n",
    "opti.subject_to([\n",
    "    W_0 + W_w + 0.5 * W_f <= 0.5 * rho * S * C_L * V ** 2,\n",
    "    W <= 0.5 * rho * S * C_Lmax * V_min ** 2,\n",
    "])\n",
    "\n",
    "### Flight duration\n",
    "T_flight = Range / V"
   ],
   "metadata": {
    "collapsed": false,
    "pycharm": {
     "name": "#%%\n"
    },
    "ExecuteTime": {
     "end_time": "2024-04-05T23:42:35.267816Z",
     "start_time": "2024-04-05T23:42:35.242270Z"
    }
   },
   "outputs": [],
   "execution_count": 4
  },
  {
   "cell_type": "markdown",
   "source": [
    "We implement the thrust and drag model:"
   ],
   "metadata": {
    "collapsed": false
   }
  },
  {
   "cell_type": "code",
   "source": [
    "### Drag\n",
    "Re = (rho / mu) * V * (S / AR) ** 0.5\n",
    "C_f = 0.074 / Re ** 0.2\n",
    "\n",
    "CDA0 = V_f_fuse / 10\n",
    "\n",
    "C_D_fuse = CDA0 / S\n",
    "C_D_wpar = k * C_f * S_wetratio\n",
    "C_D_ind = C_L ** 2 / (np.pi * AR * e)\n",
    "C_D = C_D_fuse + C_D_wpar + C_D_ind\n",
    "D = 0.5 * rho * S * C_D * V ** 2\n",
    "\n",
    "opti.subject_to([\n",
    "    W_f >= TSFC * T_flight * D,\n",
    "])"
   ],
   "metadata": {
    "collapsed": false,
    "pycharm": {
     "name": "#%%\n"
    },
    "ExecuteTime": {
     "end_time": "2024-04-05T23:42:35.284481Z",
     "start_time": "2024-04-05T23:42:35.268830Z"
    }
   },
   "outputs": [
    {
     "data": {
      "text/plain": [
       "[MX(fabs(opti0_lam_g_4))]"
      ]
     },
     "execution_count": 5,
     "metadata": {},
     "output_type": "execute_result"
    }
   ],
   "execution_count": 5
  },
  {
   "cell_type": "markdown",
   "source": [
    "We implement the fuel volume model:"
   ],
   "metadata": {
    "collapsed": false
   }
  },
  {
   "cell_type": "code",
   "source": [
    "V_f = W_f / g / rho_f\n",
    "V_f_wing = 0.03 * S ** 1.5 / AR ** 0.5 * tau  # linear with b and tau, quadratic with chord\n",
    "\n",
    "V_f_avail = V_f_wing + V_f_fuse\n",
    "\n",
    "opti.subject_to(\n",
    "    V_f_avail >= V_f\n",
    ")"
   ],
   "metadata": {
    "collapsed": false,
    "pycharm": {
     "name": "#%%\n"
    },
    "ExecuteTime": {
     "end_time": "2024-04-05T23:42:35.297669Z",
     "start_time": "2024-04-05T23:42:35.285490Z"
    }
   },
   "outputs": [
    {
     "data": {
      "text/plain": [
       "MX(fabs(opti0_lam_g_5))"
      ]
     },
     "execution_count": 6,
     "metadata": {},
     "output_type": "execute_result"
    }
   ],
   "execution_count": 6
  },
  {
   "cell_type": "markdown",
   "source": [
    "We implement an objective, and we solve:"
   ],
   "metadata": {
    "collapsed": false
   }
  },
  {
   "cell_type": "code",
   "source": [
    "opti.minimize(W_f)\n",
    "\n",
    "sol = opti.solve(max_iter=100)"
   ],
   "metadata": {
    "collapsed": false,
    "pycharm": {
     "name": "#%%\n"
    },
    "ExecuteTime": {
     "end_time": "2024-04-05T23:42:35.323698Z",
     "start_time": "2024-04-05T23:42:35.298676Z"
    }
   },
   "outputs": [
    {
     "name": "stdout",
     "output_type": "stream",
     "text": [
      "This is Ipopt version 3.14.11, running with linear solver MUMPS 5.4.1.\n",
      "\n",
      "Number of nonzeros in equality constraint Jacobian...:        0\n",
      "Number of nonzeros in inequality constraint Jacobian.:       24\n",
      "Number of nonzeros in Lagrangian Hessian.............:       19\n",
      "\n",
      "Total number of variables............................:        7\n",
      "                     variables with only lower bounds:        0\n",
      "                variables with lower and upper bounds:        0\n",
      "                     variables with only upper bounds:        0\n",
      "Total number of equality constraints.................:        0\n",
      "Total number of inequality constraints...............:        5\n",
      "        inequality constraints with only lower bounds:        0\n",
      "   inequality constraints with lower and upper bounds:        0\n",
      "        inequality constraints with only upper bounds:        5\n",
      "\n",
      "iter    objective    inf_pr   inf_du lg(mu)  ||d||  lg(rg) alpha_du alpha_pr  ls\n",
      "   0  3.0000000e+03 3.85e+03 1.00e+00   0.0 0.00e+00    -  0.00e+00 0.00e+00   0\n",
      "   1  1.1051605e+03 1.59e+03 7.94e-01  -0.1 3.00e+03    -  9.91e-01 1.00e+00f  1\n",
      "   2  5.9712361e+02 9.51e+02 4.59e-01  -1.7 2.99e+03    -  1.00e+00 6.17e-01f  1\n",
      "   3  5.6319555e+02 9.01e+02 3.66e+01  -7.7 5.02e+03    -  1.00e+00 6.03e-02f  1\n",
      "   4  5.7594622e+02 2.29e+03 1.82e+03   0.3 4.50e+04    -  1.00e+00 4.81e-02f  1\n",
      "   5  2.6450739e+02 4.20e+03 1.65e+01   0.4 1.26e+04    -  1.00e+00 1.00e+00f  1\n",
      "   6  3.6425861e+02 3.43e+03 1.18e+06   1.1 2.83e+04    -  1.00e+00 1.89e-04H  1\n",
      "   7  2.7989863e+03 8.97e+02 9.93e+03   4.2 1.12e+04    -  9.92e-01 1.00e+00f  1\n",
      "   8  1.5092280e+03 7.09e-03 5.65e+01   2.2 2.87e+03    -  1.00e+00 1.00e+00f  1\n",
      "   9  1.0554023e+03 0.00e+00 1.13e+01  -4.4 1.07e+03    -  1.00e+00 1.00e+00f  1\n",
      "iter    objective    inf_pr   inf_du lg(mu)  ||d||  lg(rg) alpha_du alpha_pr  ls\n",
      "  10  9.4886106e+02 0.00e+00 9.43e-01  -5.1 3.19e+02    -  1.00e+00 1.00e+00f  1\n",
      "  11  9.3794578e+02 0.00e+00 1.25e-02  -6.0 3.47e+01    -  1.00e+00 1.00e+00f  1\n",
      "  12  9.3775750e+02 0.00e+00 7.50e-04  -3.7 7.49e-01    -  1.00e+00 9.97e-01h  1\n",
      "  13  9.3775596e+02 0.00e+00 3.35e-07  -9.6 8.07e-03    -  1.00e+00 1.00e+00h  1\n",
      "  14  9.3775596e+02 0.00e+00 4.55e-13 -11.0 3.46e-06    -  1.00e+00 1.00e+00h  1\n",
      "\n",
      "Number of Iterations....: 14\n",
      "\n",
      "                                   (scaled)                 (unscaled)\n",
      "Objective...............:   9.3775595523815900e+02    9.3775595523815900e+02\n",
      "Dual infeasibility......:   4.5474735088646412e-13    4.5474735088646412e-13\n",
      "Constraint violation....:   0.0000000000000000e+00    0.0000000000000000e+00\n",
      "Variable bound violation:   0.0000000000000000e+00    0.0000000000000000e+00\n",
      "Complementarity.........:   1.0000000618568650e-11    1.0000000618568650e-11\n",
      "Overall NLP error.......:   5.7067956047088038e-12    1.0000000618568650e-11\n",
      "\n",
      "\n",
      "Number of objective function evaluations             = 16\n",
      "Number of objective gradient evaluations             = 15\n",
      "Number of equality constraint evaluations            = 0\n",
      "Number of inequality constraint evaluations          = 16\n",
      "Number of equality constraint Jacobian evaluations   = 0\n",
      "Number of inequality constraint Jacobian evaluations = 15\n",
      "Number of Lagrangian Hessian evaluations             = 14\n",
      "Total seconds in IPOPT                               = 0.012\n",
      "\n",
      "EXIT: Optimal Solution Found.\n",
      "      solver  :   t_proc      (avg)   t_wall      (avg)    n_eval\n",
      "       nlp_f  |        0 (       0)  18.00us (  1.12us)        16\n",
      "       nlp_g  |   1.00ms ( 62.50us) 153.00us (  9.56us)        16\n",
      "  nlp_grad_f  |        0 (       0)  53.00us (  3.31us)        16\n",
      "  nlp_hess_l  |   2.00ms (142.86us)   1.16ms ( 83.14us)        14\n",
      "   nlp_jac_g  |        0 (       0) 508.00us ( 31.75us)        16\n",
      "       total  |  13.00ms ( 13.00ms)  12.71ms ( 12.71ms)         1\n"
     ]
    }
   ],
   "execution_count": 7
  },
  {
   "cell_type": "markdown",
   "source": [
    "So, the solution was found in around 10-15 milliseconds.\n",
    "\n",
    "Let's print the value of our variables:"
   ],
   "metadata": {
    "collapsed": false,
    "pycharm": {
     "name": "#%% md\n"
    }
   }
  },
  {
   "cell_type": "code",
   "source": [
    "for value in [\n",
    "    \"V\",\n",
    "    \"W\",\n",
    "    \"C_L\",\n",
    "    \"W_f\",\n",
    "    \"AR\",\n",
    "    \"S\",\n",
    "    \"V_f_fuse\",\n",
    "]:\n",
    "    print(f\"{value:10} = {sol(eval(value)):.6}\")\n"
   ],
   "metadata": {
    "collapsed": false,
    "pycharm": {
     "name": "#%%\n"
    },
    "ExecuteTime": {
     "end_time": "2024-04-05T23:42:35.331651Z",
     "start_time": "2024-04-05T23:42:35.325706Z"
    }
   },
   "outputs": [
    {
     "name": "stdout",
     "output_type": "stream",
     "text": [
      "V          = 57.106\n",
      "W          = 8704.82\n",
      "C_L        = 0.290128\n",
      "W_f        = 937.756\n",
      "AR         = 12.1049\n",
      "S          = 14.1542\n",
      "V_f_fuse   = 0.0619038\n"
     ]
    }
   ],
   "execution_count": 8
  },
  {
   "cell_type": "markdown",
   "source": [
    "And we can print the value of some auxiliary parameters too:"
   ],
   "metadata": {
    "collapsed": false
   }
  },
  {
   "cell_type": "code",
   "source": [
    "for value in [\n",
    "    \"CDA0\",\n",
    "    \"C_D\",\n",
    "    \"C_L\",\n",
    "    \"C_f\",\n",
    "    \"D\",\n",
    "    \"C_L/C_D\",\n",
    "    \"Re\",\n",
    "    \"T_flight\",\n",
    "    \"V_f\",\n",
    "    \"V_f_wing\",\n",
    "    \"V_f_avail\",\n",
    "    \"W_f\",\n",
    "    \"W_w\",\n",
    "    \"W_w_strc\",\n",
    "    \"W_w_surf\"\n",
    "]:\n",
    "    print(f\"{value:10} = {sol(eval(value)):.6}\")"
   ],
   "metadata": {
    "collapsed": false,
    "pycharm": {
     "name": "#%%\n"
    },
    "ExecuteTime": {
     "end_time": "2024-04-05T23:42:35.339948Z",
     "start_time": "2024-04-05T23:42:35.332663Z"
    }
   },
   "outputs": [
    {
     "name": "stdout",
     "output_type": "stream",
     "text": [
      "CDA0       = 0.00619038\n",
      "C_D        = 0.0113188\n",
      "C_L        = 0.290128\n",
      "C_f        = 0.00349109\n",
      "D          = 321.309\n",
      "C_L/C_D    = 25.6325\n",
      "Re         = 4.27908e+06\n",
      "T_flight   = 17511.3\n",
      "V_f        = 0.117003\n",
      "V_f_wing   = 0.0550997\n",
      "V_f_avail  = 0.117003\n",
      "W_f        = 937.756\n",
      "W_w        = 1517.06\n",
      "W_w_strc   = 667.811\n",
      "W_w_surf   = 849.25\n"
     ]
    }
   ],
   "execution_count": 9
  },
  {
   "cell_type": "markdown",
   "source": [
    "## GPKit Comparison\n",
    "\n",
    "The optimal values obtained here exactly match the optimum values computed in the original source using GPKit; output below. Source code for the associated GPKit run is [here](./Ignore/SimPleAC - GPKit Implementation.py).\n",
    "\n",
    "```\n",
    "Starting a sequence of GP solves\n",
    " for 4 free variables\n",
    "  in 1 locally-GP constraints\n",
    "  and for 21 free variables\n",
    "       in 22 posynomial inequalities.\n",
    "Solving took 0.117 seconds and 2 GP solves.\n",
    "Optimal Cost\n",
    "------------\n",
    " 937.8\n",
    "Free Variables\n",
    "--------------\n",
    "       (CDA0) : 0.00619    [m**2] fuselage drag area\n",
    "            A : 12.1              aspect ratio\n",
    "          C_D : 0.01132           drag coefficient\n",
    "          C_L : 0.2901            lift coefficient of wing\n",
    "          C_f : 0.003491          skin friction coefficient\n",
    "            D : 321.3      [N]    total drag force\n",
    "          L/D : 25.63             lift-to-drag ratio\n",
    "           Re : 4.279e+06         Reynold's number\n",
    "            S : 14.15      [m**2] total wing area\n",
    "   T_{flight} : 4.864      [hr]   flight time\n",
    "            V : 57.11      [m/s]  cruising speed\n",
    "          V_f : 0.117      [m**3] fuel volume\n",
    "     V_f_fuse : 0.0619     [m**3] fuel volume in the fuselage\n",
    "     V_f_wing : 0.0551     [m**3] fuel volume in the wing\n",
    "V_{f_{avail}} : 0.117      [m**3] fuel volume available\n",
    "            W : 8705       [N]    total aircraft weight\n",
    "          W_f : 937.8      [N]    fuel weight\n",
    "          W_w : 1517       [N]    wing weight\n",
    "     W_w_strc : 667.8      [N]    wing structural weight\n",
    "     W_w_surf : 849.2      [N]    wing skin weight\n",
    "```\n",
    "\n",
    "However, not only is the automatic differentiation (AD) approach more generalizable that the GP approach; in this demo the AD approach is roughly an order of magnitude faster on the same hardware.\n",
    "\n",
    "Granted, this isn't a true head-to-head speed comparison, as we removed extraneous variables here. And, if we were to track parametric sensitivities as well, the speed advantage of AD would also shrink. However, the AD approach is clearly *at the very least* competitive speed-wise with GP while being vastly more generalizable to non-GP, nonconvex problems.\n",
    "\n",
    "At the same time, we do need to concede a drawback of the AD approach over the GP approach:\n",
    "* The AD approach is not guaranteed to converge for all initial guesses; indeed, if one guesses random values that aren't within 1 or 2 orders of magnitude of the optimal values, convergence tends to be difficult. However, on engineering design problems, we can usually easily make good enough guesses based on intuition. As an example, based on SimPleAC:\n",
    "    * Recall that the optimal cruise airspeed is 57 m/s, and our naive initial guess for this value was 100 m/s.\n",
    "    * If we change the initial guess to 1,000 m/s (Mach ~3), it still converges easily to the same optimum in just 31 iterations.\n",
    "    * If we change the initial guess to 10,000 m/s (Mach ~30), it does not converge.\n",
    "\n",
    "Another stated advantage of the GP approach is that global optimality is guaranteed; however, I argue that this is a misleading claim:\n",
    "* If the true underlying problem is unimodal (i.e. there is only one local optimum, which is the global optimum), then any solution returned by either GPKit or a modern NLP solver (like IPOPT, which AeroSandbox uses), will be globally optimal.\n",
    "    * If the initial guesses or scaling are poor, the NLP solver might fail to find a solution in a case where GPKit would not fail; however, this is a different problem than the NLP solver returning a solution that is locally-but-not-globally optimal.\n",
    "* If the true underlying problem is multimodal, then:\n",
    "    * In the GP approach: the problem is, by definition, not GP-compatible as-is. Therefore, we must force the problem to be GP-compatible by:\n",
    "        * Surrogate modeling, in which case we are solving a different, unimodal approximation of the original problem. Hence, we're not solving the true engineering problem so global optimality guaranatees are meaningless.\n",
    "            * Example: If a problem has a subsonic optimum and a supersonic optimum, and we force it to be GP-compatible by fitting a GP-compatible model to the subsonic branch, we can no longer make global optimality claims of the true underlying problem.\n",
    "        * Signomial programming, in which case we give up global optimality guarantees anyway.\n",
    "    * In the AD approach: we have no global optimality guarantees.\n",
    "\n",
    "In other words: if you solve a multimodal problem by approximating it as a unimodal one, then of course you are going to get the global optimum of your approximation - this is true whether you use a GP solution or an NLP solution. But that doesn't mean you can claim global optimality on the original problem!\n",
    "\n",
    "Hence, I'd argue that both the GP approach and the AD approach have identically strong claims on whether their solutions are \"globally optimal\", regardless of whether the underlying engineering problem is GP-compatible or not."
   ],
   "metadata": {
    "collapsed": false
   }
  }
 ],
 "metadata": {
  "kernelspec": {
   "display_name": "Python 3",
   "language": "python",
   "name": "python3"
  },
  "language_info": {
   "codemirror_mode": {
    "name": "ipython",
    "version": 2
   },
   "file_extension": ".py",
   "mimetype": "text/x-python",
   "name": "python",
   "nbconvert_exporter": "python",
   "pygments_lexer": "ipython2",
   "version": "2.7.6"
  }
 },
 "nbformat": 4,
 "nbformat_minor": 0
}
