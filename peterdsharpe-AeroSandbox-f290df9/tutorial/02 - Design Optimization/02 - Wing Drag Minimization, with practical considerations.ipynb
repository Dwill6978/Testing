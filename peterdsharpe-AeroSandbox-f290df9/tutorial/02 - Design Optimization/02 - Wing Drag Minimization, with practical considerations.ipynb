{
 "cells": [
  {
   "cell_type": "markdown",
   "source": [
    "# Wing Drag Minimization, with practical considerations\n",
    "\n",
    "In our last example, we had a cautionary tale about using bad models and assumptions, and how you can easily find\n",
    "yourself with nonsensical solutions if you throw together models without thinking about how they can be exploited.\n",
    "\n",
    "Let's try doing another wing drag minimization problem, except this time let's model some important coupled effects,\n",
    "such as:\n",
    "\n",
    "* the mass of the wing, as well as how that scales with wing size and shape\n",
    "\n",
    "* fuselage drag\n",
    "\n",
    "* takeoff lift constraints\n",
    "\n",
    "General problem structure is taken from Section 3 of \"Geometric Programming for Aircraft Design Optimization\" by W. Hoburg and P.\n",
    "Abbeel. http://web.mit.edu/~whoburg/www/papers/hoburgabbeel2014.pdf\n",
    "\n",
    "Several constants are tweaked in order to match the GPKit implementation available at: https://gpkit.readthedocs.io/en/latest/examples.html#simple-wing"
   ],
   "metadata": {
    "collapsed": false
   }
  },
  {
   "cell_type": "code",
   "source": [
    "import aerosandbox as asb\n",
    "import aerosandbox.numpy as np\n",
    "\n",
    "### Constants\n",
    "form_factor = 1.2  # form factor [-]\n",
    "oswalds_efficiency = 0.95  # Oswald efficiency factor [-]\n",
    "viscosity = 1.78e-5  # viscosity of air [kg/m/s]\n",
    "density = 1.23  # density of air [kg/m^3]\n",
    "airfoil_thickness_fraction = 0.12  # airfoil thickness to chord ratio [-]\n",
    "ultimate_load_factor = 3.8  # ultimate load factor [-]\n",
    "airspeed_takeoff = 22  # takeoff speed [m/s]\n",
    "CL_max = 1.5  # max CL with flaps down [-]\n",
    "wetted_area_ratio = 2.05  # wetted area ratio [-]\n",
    "W_W_coeff1 = 8.71e-5  # Wing Weight Coefficient 1 [1/m]\n",
    "W_W_coeff2 = 45.24  # Wing Weight Coefficient 2 [Pa]\n",
    "drag_area_fuselage = 0.031  # fuselage drag area [m^2]\n",
    "weight_fuselage = 4940.0  # aircraft weight excluding wing [N]\n",
    "\n",
    "opti = asb.Opti()  # initialize an optimization environment\n",
    "\n",
    "### Variables\n",
    "aspect_ratio = opti.variable(init_guess=10)  # aspect ratio\n",
    "wing_area = opti.variable(init_guess=10)  # total wing area [m^2]\n",
    "airspeed = opti.variable(init_guess=100)  # cruising speed [m/s]\n",
    "weight = opti.variable(init_guess=10000)  # total aircraft weight [N]\n",
    "CL = opti.variable(init_guess=1)  # Lift coefficient of wing [-]\n",
    "\n",
    "### Models\n",
    "# Aerodynamics model\n",
    "CD_fuselage = drag_area_fuselage / wing_area\n",
    "Re = (density / viscosity) * airspeed * (wing_area / aspect_ratio) ** 0.5\n",
    "Cf = 0.074 / Re ** 0.2\n",
    "CD_profile = form_factor * Cf * wetted_area_ratio\n",
    "CD_induced = CL ** 2 / (np.pi * aspect_ratio * oswalds_efficiency)\n",
    "CD = CD_fuselage + CD_profile + CD_induced\n",
    "dynamic_pressure = 0.5 * density * airspeed ** 2\n",
    "drag = dynamic_pressure * wing_area * CD\n",
    "lift_cruise = dynamic_pressure * wing_area * CL\n",
    "lift_takeoff = 0.5 * density * wing_area * CL_max * airspeed_takeoff ** 2\n",
    "\n",
    "# Wing weight model\n",
    "weight_wing_structural = W_W_coeff1 * (\n",
    "        ultimate_load_factor * aspect_ratio ** 1.5 *\n",
    "        (weight_fuselage * weight * wing_area) ** 0.5\n",
    ") / airfoil_thickness_fraction\n",
    "weight_wing_surface = W_W_coeff2 * wing_area\n",
    "weight_wing = weight_wing_surface + weight_wing_structural\n",
    "\n",
    "### Constraints\n",
    "opti.subject_to([\n",
    "    weight <= lift_cruise,\n",
    "    weight <= lift_takeoff,\n",
    "    weight == weight_fuselage + weight_wing\n",
    "])\n",
    "\n",
    "# Objective\n",
    "opti.minimize(drag)\n",
    "\n",
    "sol = opti.solve(max_iter=100)"
   ],
   "metadata": {
    "collapsed": false,
    "pycharm": {
     "name": "#%%\n"
    },
    "ExecuteTime": {
     "end_time": "2024-04-05T23:41:32.216134Z",
     "start_time": "2024-04-05T23:41:27.622855Z"
    }
   },
   "outputs": [
    {
     "name": "stdout",
     "output_type": "stream",
     "text": [
      "This is Ipopt version 3.14.11, running with linear solver MUMPS 5.4.1.\n",
      "\n",
      "Number of nonzeros in equality constraint Jacobian...:        3\n",
      "Number of nonzeros in inequality constraint Jacobian.:        6\n",
      "Number of nonzeros in Lagrangian Hessian.............:       13\n",
      "\n",
      "Total number of variables............................:        5\n",
      "                     variables with only lower bounds:        0\n",
      "                variables with lower and upper bounds:        0\n",
      "                     variables with only upper bounds:        0\n",
      "Total number of equality constraints.................:        1\n",
      "Total number of inequality constraints...............:        2\n",
      "        inequality constraints with only lower bounds:        0\n",
      "   inequality constraints with lower and upper bounds:        0\n",
      "        inequality constraints with only upper bounds:        2\n",
      "\n",
      "iter    objective    inf_pr   inf_du lg(mu)  ||d||  lg(rg) alpha_du alpha_pr  ls\n",
      "   0  2.7311812e+03 5.54e+03 2.47e+01   0.0 0.00e+00    -  0.00e+00 0.00e+00   0\n",
      "   1  1.0164571e+04 2.51e+05 4.47e+02   1.6 6.53e+01    -  5.84e-01 5.00e-01f  2\n",
      "   2  1.6042565e+03 2.19e+04 3.39e+03   0.0 6.16e-01   4.0 1.00e+00 1.00e+00f  1\n",
      "Warning: SOC step rejected due to evaluation error\n",
      "   3  5.5452390e+03 6.19e+01 1.07e+03  -1.9 1.26e+00   3.5 1.00e+00 5.00e-01h  2\n",
      "   4  4.5726523e+03 1.95e-01 6.03e+01  -3.8 9.17e-02   3.0 1.00e+00 1.00e+00f  1\n",
      "   5  4.3824598e+03 1.95e+00 3.37e+01  -5.6 9.37e-02   2.6 1.00e+00 1.00e+00f  1\n",
      "   6  3.9046605e+03 1.78e+01 2.46e+01  -7.5 2.01e-01   2.1 1.00e+00 1.00e+00f  1\n",
      "   7  3.2377521e+03 9.82e+01 1.24e+01  -9.4 2.99e-01   1.6 1.00e+00 1.00e+00f  1\n",
      "   8  2.9148191e+03 2.42e+02 4.38e+00 -11.0 3.64e-01   1.1 1.00e+00 1.00e+00f  1\n",
      "   9  2.8396309e+03 2.69e+02 2.33e+00 -11.0 5.23e-01   0.7 1.00e+00 1.00e+00h  1\n",
      "iter    objective    inf_pr   inf_du lg(mu)  ||d||  lg(rg) alpha_du alpha_pr  ls\n",
      "  10  2.7808251e+03 2.12e+02 9.53e-01 -11.0 6.03e-01   0.2 1.00e+00 1.00e+00h  1\n",
      "  11  2.7530455e+03 1.23e+02 5.69e-01 -11.0 1.12e+00  -0.3 1.00e+00 1.00e+00h  1\n",
      "  12  2.6822791e+03 2.26e+01 5.64e-01 -11.0 3.33e+00  -0.8 1.00e+00 1.00e+00h  1\n",
      "  13  2.3967427e+03 7.64e+00 5.71e-01 -11.0 1.01e+01  -1.2 1.00e+00 1.00e+00f  1\n",
      "  14  1.5145532e+03 2.62e+02 6.08e-01 -11.0 3.23e+01  -1.7 1.00e+00 1.00e+00f  1\n",
      "  15  7.6624646e+02 7.03e+02 1.39e+00  -9.1 1.57e+02  -2.2 1.00e+00 1.71e-01f  1\n",
      "  16  7.5485938e+02 7.01e+02 1.38e+00  -7.4 7.64e+01  -1.8 1.00e+00 3.51e-03f  1\n",
      "  17  7.5470712e+02 7.01e+02 1.38e+00  -5.7 2.05e+01  -1.4 1.00e+00 1.31e-04h  1\n",
      "  18  4.2617650e+02 3.49e+02 1.43e+00  -4.7 9.64e-01  -1.8 1.00e+00 1.00e+00f  1\n",
      "  19  3.2848934e+02 6.14e+01 6.15e-01  -4.6 2.87e+00  -2.3 1.00e+00 1.00e+00h  1\n",
      "iter    objective    inf_pr   inf_du lg(mu)  ||d||  lg(rg) alpha_du alpha_pr  ls\n",
      "  20  3.0534050e+02 3.29e+01 9.81e-02  -6.8 8.76e+00  -2.8 1.00e+00 1.00e+00h  1\n",
      "  21  3.0125313e+02 5.26e+01 3.58e-01  -3.6 8.06e+02    -  1.00e+00 5.58e-03f  1\n",
      "  22  3.0218923e+02 2.52e+01 5.56e-02  -3.2 8.88e-02    -  1.00e+00 5.07e-01h  1\n",
      "  23  3.0307666e+02 2.44e-03 1.21e-04  -5.3 1.23e-03    -  1.00e+00 1.00e+00h  1\n",
      "  24  3.0307477e+02 2.64e-07 1.46e-08 -11.0 3.93e-04    -  1.00e+00 1.00e+00h  1\n",
      "  25  3.0307477e+02 9.09e-13 1.78e-14 -11.0 5.08e-08    -  1.00e+00 1.00e+00h  1\n",
      "\n",
      "Number of Iterations....: 25\n",
      "\n",
      "                                   (scaled)                 (unscaled)\n",
      "Objective...............:   5.6476537149537949e+00    3.0307477258650505e+02\n",
      "Dual infeasibility......:   1.7763568394002505e-14    9.5326125202794660e-13\n",
      "Constraint violation....:   1.0071132374435624e-14    9.0949470177292824e-13\n",
      "Variable bound violation:   0.0000000000000000e+00    0.0000000000000000e+00\n",
      "Complementarity.........:   1.0000000018060540e-11    5.3663837839667193e-10\n",
      "Overall NLP error.......:   1.0000000018060540e-11    5.3663837839667193e-10\n",
      "\n",
      "\n",
      "Number of objective function evaluations             = 29\n",
      "Number of objective gradient evaluations             = 26\n",
      "Number of equality constraint evaluations            = 30\n",
      "Number of inequality constraint evaluations          = 30\n",
      "Number of equality constraint Jacobian evaluations   = 26\n",
      "Number of inequality constraint Jacobian evaluations = 26\n",
      "Number of Lagrangian Hessian evaluations             = 25\n",
      "Total seconds in IPOPT                               = 0.032\n",
      "\n",
      "EXIT: Optimal Solution Found.\n",
      "      solver  :   t_proc      (avg)   t_wall      (avg)    n_eval\n",
      "       nlp_f  |   1.00ms ( 34.48us) 886.00us ( 30.55us)        29\n",
      "       nlp_g  |        0 (       0) 390.00us ( 13.00us)        30\n",
      "  nlp_grad_f  |        0 (       0) 342.00us ( 12.67us)        27\n",
      "  nlp_hess_l  |   2.00ms ( 80.00us)   1.34ms ( 53.60us)        25\n",
      "   nlp_jac_g  |        0 (       0) 422.00us ( 15.63us)        27\n",
      "       total  |  32.00ms ( 32.00ms)  32.05ms ( 32.05ms)         1\n"
     ]
    },
    {
     "name": "stderr",
     "output_type": "stream",
     "text": [
      "CasADi - 2024-04-05 19:41:32 WARNING(\"solver:nlp_f failed: NaN detected for output f, at (row 0, col 0).\") [.../casadi/core/oracle_function.cpp:377]\n"
     ]
    }
   ],
   "execution_count": 1
  },
  {
   "cell_type": "markdown",
   "source": [
    "Now, we get a much more reasonable solution:"
   ],
   "metadata": {
    "collapsed": false
   }
  },
  {
   "cell_type": "code",
   "source": [
    "print(f\"Minimum drag = {sol(drag)} N\")\n",
    "print(f\"Aspect ratio = {sol(aspect_ratio)}\")\n",
    "print(f\"Wing area = {sol(wing_area)} m^2\")\n",
    "print(f\"Airspeed = {sol(airspeed)} m/s\")\n",
    "print(f\"Weight = {sol(weight)} N\")\n",
    "print(f\"C_L = {sol(CL)}\")"
   ],
   "metadata": {
    "collapsed": false,
    "pycharm": {
     "name": "#%%\n"
    },
    "ExecuteTime": {
     "end_time": "2024-04-05T23:41:32.223203Z",
     "start_time": "2024-04-05T23:41:32.217147Z"
    }
   },
   "outputs": [
    {
     "name": "stdout",
     "output_type": "stream",
     "text": [
      "Minimum drag = 303.07477258650505 N\n",
      "Aspect ratio = 8.459983146202207\n",
      "Wing area = 16.44179489082042 m^2\n",
      "Airspeed = 38.15135783274743 m/s\n",
      "Weight = 7341.0970007417345 N\n",
      "C_L = 0.4987887182226508\n"
     ]
    }
   ],
   "execution_count": 2
  },
  {
   "cell_type": "markdown",
   "source": [
    "We also see that we get a more reasonable L/D (albeit still high, as we are still neglecting many considerations, and the Schlichting turbulent flat plate model underestimates viscous losses here):"
   ],
   "metadata": {
    "collapsed": false
   }
  },
  {
   "cell_type": "code",
   "source": [
    "print(f\"L/D = {sol(lift_cruise/drag)}\")"
   ],
   "metadata": {
    "collapsed": false,
    "pycharm": {
     "name": "#%%\n"
    },
    "ExecuteTime": {
     "end_time": "2024-04-05T23:41:32.229240Z",
     "start_time": "2024-04-05T23:41:32.224212Z"
    }
   },
   "outputs": [
    {
     "name": "stdout",
     "output_type": "stream",
     "text": [
      "L/D = 24.222065525595625\n"
     ]
    }
   ],
   "execution_count": 3
  },
  {
   "cell_type": "markdown",
   "source": [
    "This illustrates just how important accurate modeling is when doing engineering design optimization - just like when\n",
    "coding, an optimizer solves the problem that you actually give it, which is not necessarily the problem that you may\n",
    "mean to solve."
   ],
   "metadata": {
    "collapsed": false
   }
  }
 ],
 "metadata": {
  "kernelspec": {
   "display_name": "Python 3",
   "language": "python",
   "name": "python3"
  },
  "language_info": {
   "codemirror_mode": {
    "name": "ipython",
    "version": 2
   },
   "file_extension": ".py",
   "mimetype": "text/x-python",
   "name": "python",
   "nbconvert_exporter": "python",
   "pygments_lexer": "ipython2",
   "version": "2.7.6"
  }
 },
 "nbformat": 4,
 "nbformat_minor": 0
}
