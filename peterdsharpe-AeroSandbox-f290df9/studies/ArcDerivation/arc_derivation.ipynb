{
 "cells": [
  {
   "cell_type": "markdown",
   "source": [
    "Problem:\n",
    "\n",
    "Find the parameters of the ellipse that goes through ($x_1$, $y_1$) with local slope $\\frac{df}{dx}|_1$ and ($x_2$, $y_2$) with local slope $\\frac{df}{dx}|_2$."
   ],
   "metadata": {
    "collapsed": false
   }
  },
  {
   "cell_type": "code",
   "execution_count": 16,
   "outputs": [
    {
     "data": {
      "text/plain": "b*sqrt(1 - (x - x_0)**2/a**2) + y_0",
      "text/latex": "$\\displaystyle b \\sqrt{1 - \\frac{\\left(x - x_{0}\\right)^{2}}{a^{2}}} + y_{0}$"
     },
     "execution_count": 16,
     "metadata": {},
     "output_type": "execute_result"
    }
   ],
   "source": [
    "import sympy as s\n",
    "\n",
    "x1, y1, x2, y2, dfdx_1, dfdx_2 = s.symbols(\"x_1 y_1 x_2 y_2 dfdx_1, dfdx_2\")\n",
    "a, b, x0, y0 = s.symbols(\"a b x_0, y_0\")\n",
    "x, y = s.symbols(\"x y\")\n",
    "\n",
    "f = y0 + b * s.sqrt(1 - (x - x0) ** 2 / a ** 2)\n",
    "f = s.simplify(f)\n",
    "f"
   ],
   "metadata": {
    "collapsed": false
   }
  },
  {
   "cell_type": "code",
   "execution_count": 17,
   "outputs": [
    {
     "data": {
      "text/plain": "-b*(x - x_0)/(a**2*sqrt((a**2 - (x - x_0)**2)/a**2))",
      "text/latex": "$\\displaystyle - \\frac{b \\left(x - x_{0}\\right)}{a^{2} \\sqrt{\\frac{a^{2} - \\left(x - x_{0}\\right)^{2}}{a^{2}}}}$"
     },
     "execution_count": 17,
     "metadata": {},
     "output_type": "execute_result"
    }
   ],
   "source": [
    "dfdx = s.simplify(s.diff(f, x))\n",
    "dfdx"
   ],
   "metadata": {
    "collapsed": false
   }
  },
  {
   "cell_type": "code",
   "execution_count": null,
   "outputs": [],
   "source": [
    "\n",
    "s.solve(\n",
    "    [\n",
    "        f.subs(x, x1) - y1,\n",
    "        f.subs(x, x2) - y2,\n",
    "        dfdx.subs(x, x1) - dfdx_1,\n",
    "        dfdx.subs(x, x2) - dfdx_2,\n",
    "    ],\n",
    "    a, b, x0, y0\n",
    ")"
   ],
   "metadata": {
    "collapsed": false,
    "pycharm": {
     "is_executing": true
    }
   }
  }
 ],
 "metadata": {
  "kernelspec": {
   "display_name": "Python 3",
   "language": "python",
   "name": "python3"
  },
  "language_info": {
   "codemirror_mode": {
    "name": "ipython",
    "version": 2
   },
   "file_extension": ".py",
   "mimetype": "text/x-python",
   "name": "python",
   "nbconvert_exporter": "python",
   "pygments_lexer": "ipython2",
   "version": "2.7.6"
  }
 },
 "nbformat": 4,
 "nbformat_minor": 0
}
